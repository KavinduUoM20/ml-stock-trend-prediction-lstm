{
 "cells": [
  {
   "cell_type": "markdown",
   "id": "c448eebf-9d5a-47aa-9b92-6fe76b211cb2",
   "metadata": {},
   "source": [
    "### Import Required Libraries"
   ]
  },
  {
   "cell_type": "code",
   "execution_count": 1,
   "id": "a650ed37-1c9f-454d-89cd-5e5dd48c4b18",
   "metadata": {},
   "outputs": [],
   "source": [
    "import pandas as pd\n",
    "import numpy as np\n",
    "import yfinance as yf\n",
    "import matplotlib.pyplot as plt"
   ]
  },
  {
   "cell_type": "markdown",
   "id": "a2bb7872-257d-4cf8-8ded-9f97b31c3de9",
   "metadata": {},
   "source": [
    "### Scraping Data"
   ]
  },
  {
   "cell_type": "code",
   "execution_count": 2,
   "id": "08f1c5f9-f23b-4a02-be59-faa947a66b1d",
   "metadata": {},
   "outputs": [
    {
     "name": "stderr",
     "output_type": "stream",
     "text": [
      "[*********************100%%**********************]  1 of 1 completed\n"
     ]
    }
   ],
   "source": [
    "data = yf.download(\"HBAR-USD\", start=\"2019-09-17\", end=\"2024-03-31\")"
   ]
  },
  {
   "cell_type": "code",
   "execution_count": 3,
   "id": "17a7db47-587d-4e03-89ca-c945e0fe5a19",
   "metadata": {},
   "outputs": [
    {
     "data": {
      "text/html": [
       "<div>\n",
       "<style scoped>\n",
       "    .dataframe tbody tr th:only-of-type {\n",
       "        vertical-align: middle;\n",
       "    }\n",
       "\n",
       "    .dataframe tbody tr th {\n",
       "        vertical-align: top;\n",
       "    }\n",
       "\n",
       "    .dataframe thead th {\n",
       "        text-align: right;\n",
       "    }\n",
       "</style>\n",
       "<table border=\"1\" class=\"dataframe\">\n",
       "  <thead>\n",
       "    <tr style=\"text-align: right;\">\n",
       "      <th></th>\n",
       "      <th>Open</th>\n",
       "      <th>High</th>\n",
       "      <th>Low</th>\n",
       "      <th>Close</th>\n",
       "      <th>Adj Close</th>\n",
       "      <th>Volume</th>\n",
       "    </tr>\n",
       "    <tr>\n",
       "      <th>Date</th>\n",
       "      <th></th>\n",
       "      <th></th>\n",
       "      <th></th>\n",
       "      <th></th>\n",
       "      <th></th>\n",
       "      <th></th>\n",
       "    </tr>\n",
       "  </thead>\n",
       "  <tbody>\n",
       "    <tr>\n",
       "      <th>2019-09-17</th>\n",
       "      <td>0.416009</td>\n",
       "      <td>0.416009</td>\n",
       "      <td>0.087753</td>\n",
       "      <td>0.090177</td>\n",
       "      <td>0.090177</td>\n",
       "      <td>10855378</td>\n",
       "    </tr>\n",
       "    <tr>\n",
       "      <th>2019-09-18</th>\n",
       "      <td>0.090519</td>\n",
       "      <td>0.100272</td>\n",
       "      <td>0.080045</td>\n",
       "      <td>0.086921</td>\n",
       "      <td>0.086921</td>\n",
       "      <td>14772274</td>\n",
       "    </tr>\n",
       "    <tr>\n",
       "      <th>2019-09-19</th>\n",
       "      <td>0.087702</td>\n",
       "      <td>0.087721</td>\n",
       "      <td>0.054469</td>\n",
       "      <td>0.057924</td>\n",
       "      <td>0.057924</td>\n",
       "      <td>27324784</td>\n",
       "    </tr>\n",
       "    <tr>\n",
       "      <th>2019-09-20</th>\n",
       "      <td>0.058087</td>\n",
       "      <td>0.059061</td>\n",
       "      <td>0.047800</td>\n",
       "      <td>0.052490</td>\n",
       "      <td>0.052490</td>\n",
       "      <td>15814443</td>\n",
       "    </tr>\n",
       "    <tr>\n",
       "      <th>2019-09-21</th>\n",
       "      <td>0.052402</td>\n",
       "      <td>0.055408</td>\n",
       "      <td>0.045456</td>\n",
       "      <td>0.048021</td>\n",
       "      <td>0.048021</td>\n",
       "      <td>13144171</td>\n",
       "    </tr>\n",
       "  </tbody>\n",
       "</table>\n",
       "</div>"
      ],
      "text/plain": [
       "                Open      High       Low     Close  Adj Close    Volume\n",
       "Date                                                                   \n",
       "2019-09-17  0.416009  0.416009  0.087753  0.090177   0.090177  10855378\n",
       "2019-09-18  0.090519  0.100272  0.080045  0.086921   0.086921  14772274\n",
       "2019-09-19  0.087702  0.087721  0.054469  0.057924   0.057924  27324784\n",
       "2019-09-20  0.058087  0.059061  0.047800  0.052490   0.052490  15814443\n",
       "2019-09-21  0.052402  0.055408  0.045456  0.048021   0.048021  13144171"
      ]
     },
     "execution_count": 3,
     "metadata": {},
     "output_type": "execute_result"
    }
   ],
   "source": [
    "data.head()"
   ]
  },
  {
   "cell_type": "code",
   "execution_count": 4,
   "id": "fa10f0bf-dd84-4743-b411-7fbeebed7546",
   "metadata": {},
   "outputs": [
    {
     "data": {
      "text/html": [
       "<div>\n",
       "<style scoped>\n",
       "    .dataframe tbody tr th:only-of-type {\n",
       "        vertical-align: middle;\n",
       "    }\n",
       "\n",
       "    .dataframe tbody tr th {\n",
       "        vertical-align: top;\n",
       "    }\n",
       "\n",
       "    .dataframe thead th {\n",
       "        text-align: right;\n",
       "    }\n",
       "</style>\n",
       "<table border=\"1\" class=\"dataframe\">\n",
       "  <thead>\n",
       "    <tr style=\"text-align: right;\">\n",
       "      <th></th>\n",
       "      <th>Open</th>\n",
       "      <th>High</th>\n",
       "      <th>Low</th>\n",
       "      <th>Close</th>\n",
       "      <th>Adj Close</th>\n",
       "      <th>Volume</th>\n",
       "    </tr>\n",
       "    <tr>\n",
       "      <th>Date</th>\n",
       "      <th></th>\n",
       "      <th></th>\n",
       "      <th></th>\n",
       "      <th></th>\n",
       "      <th></th>\n",
       "      <th></th>\n",
       "    </tr>\n",
       "  </thead>\n",
       "  <tbody>\n",
       "    <tr>\n",
       "      <th>2024-03-26</th>\n",
       "      <td>0.117147</td>\n",
       "      <td>0.130246</td>\n",
       "      <td>0.116938</td>\n",
       "      <td>0.120330</td>\n",
       "      <td>0.120330</td>\n",
       "      <td>163477891</td>\n",
       "    </tr>\n",
       "    <tr>\n",
       "      <th>2024-03-27</th>\n",
       "      <td>0.120330</td>\n",
       "      <td>0.121382</td>\n",
       "      <td>0.112298</td>\n",
       "      <td>0.113734</td>\n",
       "      <td>0.113734</td>\n",
       "      <td>108853536</td>\n",
       "    </tr>\n",
       "    <tr>\n",
       "      <th>2024-03-28</th>\n",
       "      <td>0.113734</td>\n",
       "      <td>0.117463</td>\n",
       "      <td>0.111356</td>\n",
       "      <td>0.116196</td>\n",
       "      <td>0.116196</td>\n",
       "      <td>64238270</td>\n",
       "    </tr>\n",
       "    <tr>\n",
       "      <th>2024-03-29</th>\n",
       "      <td>0.116196</td>\n",
       "      <td>0.117743</td>\n",
       "      <td>0.112648</td>\n",
       "      <td>0.116099</td>\n",
       "      <td>0.116099</td>\n",
       "      <td>54339428</td>\n",
       "    </tr>\n",
       "    <tr>\n",
       "      <th>2024-03-30</th>\n",
       "      <td>0.116099</td>\n",
       "      <td>0.116458</td>\n",
       "      <td>0.112933</td>\n",
       "      <td>0.113619</td>\n",
       "      <td>0.113619</td>\n",
       "      <td>44790919</td>\n",
       "    </tr>\n",
       "  </tbody>\n",
       "</table>\n",
       "</div>"
      ],
      "text/plain": [
       "                Open      High       Low     Close  Adj Close     Volume\n",
       "Date                                                                    \n",
       "2024-03-26  0.117147  0.130246  0.116938  0.120330   0.120330  163477891\n",
       "2024-03-27  0.120330  0.121382  0.112298  0.113734   0.113734  108853536\n",
       "2024-03-28  0.113734  0.117463  0.111356  0.116196   0.116196   64238270\n",
       "2024-03-29  0.116196  0.117743  0.112648  0.116099   0.116099   54339428\n",
       "2024-03-30  0.116099  0.116458  0.112933  0.113619   0.113619   44790919"
      ]
     },
     "execution_count": 4,
     "metadata": {},
     "output_type": "execute_result"
    }
   ],
   "source": [
    "data.tail()"
   ]
  },
  {
   "cell_type": "markdown",
   "id": "459a44eb-8ba6-487b-be81-47187e5c12c4",
   "metadata": {},
   "source": [
    "### Data Preprocessing"
   ]
  },
  {
   "cell_type": "code",
   "execution_count": 5,
   "id": "38393766-e848-4602-bd2e-247eb691e549",
   "metadata": {},
   "outputs": [],
   "source": [
    "data = data.reset_index()"
   ]
  },
  {
   "cell_type": "code",
   "execution_count": 6,
   "id": "ebcfaefa-a85f-4ef7-89de-5df837d83a02",
   "metadata": {},
   "outputs": [],
   "source": [
    "data = data.drop(['Date','Adj Close'],axis=1)"
   ]
  },
  {
   "cell_type": "code",
   "execution_count": 7,
   "id": "fdfcd18b-1fab-4e1c-88e8-eaf225165ea9",
   "metadata": {},
   "outputs": [
    {
     "data": {
      "text/plain": [
       "[<matplotlib.lines.Line2D at 0x1c7f25b0390>]"
      ]
     },
     "execution_count": 7,
     "metadata": {},
     "output_type": "execute_result"
    },
    {
     "data": {
      "image/png": "[encoded data removed]",
      "text/plain": [
       "<Figure size 640x480 with 1 Axes>"
      ]
     },
     "metadata": {},
     "output_type": "display_data"
    }
   ],
   "source": [
    "plt.plot(data.Close)"
   ]
  },
  {
   "cell_type": "markdown",
   "id": "872d2f52-89c9-4d75-9c6c-c05767316e73",
   "metadata": {},
   "source": [
    "### Moving Averages"
   ]
  },
  {
   "cell_type": "code",
   "execution_count": 8,
   "id": "c9fca18a-5cce-49a6-a818-b0ccd581fc95",
   "metadata": {},
   "outputs": [],
   "source": [
    "# Moving Avg 100 Days\n",
    "ma100 = data.Close.rolling(100).mean()"
   ]
  },
  {
   "cell_type": "code",
   "execution_count": 9,
   "id": "cf812c23-463c-411a-b73e-fb2dd29e5a9b",
   "metadata": {},
   "outputs": [
    {
     "data": {
      "text/plain": [
       "0            NaN\n",
       "1            NaN\n",
       "2            NaN\n",
       "3            NaN\n",
       "4            NaN\n",
       "          ...   \n",
       "1652    0.093735\n",
       "1653    0.094078\n",
       "1654    0.094424\n",
       "1655    0.094715\n",
       "1656    0.094939\n",
       "Name: Close, Length: 1657, dtype: float64"
      ]
     },
     "execution_count": 9,
     "metadata": {},
     "output_type": "execute_result"
    }
   ],
   "source": [
    "ma100"
   ]
  },
  {
   "cell_type": "code",
   "execution_count": 10,
   "id": "8e4c95e8-e659-4092-95ac-3d8dff62ba15",
   "metadata": {},
   "outputs": [
    {
     "data": {
      "text/plain": [
       "[<matplotlib.lines.Line2D at 0x1c7f2641a90>]"
      ]
     },
     "execution_count": 10,
     "metadata": {},
     "output_type": "execute_result"
    },
    {
     "data": {
      "image/png": "[encoded data removed]",
      "text/plain": [
       "<Figure size 1200x600 with 1 Axes>"
      ]
     },
     "metadata": {},
     "output_type": "display_data"
    }
   ],
   "source": [
    "plt.figure(figsize=(12,6))\n",
    "plt.plot(data.Close)\n",
    "plt.plot(ma100,'r')"
   ]
  },
  {
   "cell_type": "code",
   "execution_count": 11,
   "id": "93b426ae-a9bf-4d12-a3f2-d2a9f5b92ae7",
   "metadata": {},
   "outputs": [],
   "source": [
    "# Moving Avg 200 Days\n",
    "ma200 = data.Close.rolling(200).mean()"
   ]
  },
  {
   "cell_type": "code",
   "execution_count": 12,
   "id": "98774857-4d09-427a-b3dc-d4b4e89f3437",
   "metadata": {},
   "outputs": [
    {
     "data": {
      "text/plain": [
       "[<matplotlib.lines.Line2D at 0x1c7f26fe310>]"
      ]
     },
     "execution_count": 12,
     "metadata": {},
     "output_type": "execute_result"
    },
    {
     "data": {
      "image/png": "[encoded data removed]",
      "text/plain": [
       "<Figure size 1200x600 with 1 Axes>"
      ]
     },
     "metadata": {},
     "output_type": "display_data"
    }
   ],
   "source": [
    "plt.figure(figsize=(12,6))\n",
    "plt.plot(data.Close)\n",
    "plt.plot(ma100,'r')\n",
    "plt.plot(ma200,'g')"
   ]
  },
  {
   "cell_type": "code",
   "execution_count": 13,
   "id": "531470c8-f518-4b7e-be98-8cf88955fd7e",
   "metadata": {},
   "outputs": [
    {
     "data": {
      "text/plain": [
       "(1657, 5)"
      ]
     },
     "execution_count": 13,
     "metadata": {},
     "output_type": "execute_result"
    }
   ],
   "source": [
    "data.shape"
   ]
  },
  {
   "cell_type": "markdown",
   "id": "476d9f11-4ecc-4415-97f2-35a60deffaf4",
   "metadata": {},
   "source": [
    "### Train Test Split"
   ]
  },
  {
   "cell_type": "code",
   "execution_count": 14,
   "id": "fcae2ff8-2d22-4923-8f2f-73125ff95820",
   "metadata": {},
   "outputs": [],
   "source": [
    "# Train Test Split\n",
    "from sklearn.model_selection import train_test_split"
   ]
  },
  {
   "cell_type": "code",
   "execution_count": 15,
   "id": "c85e72e3-89ac-4cab-b23f-0496d125dcf5",
   "metadata": {},
   "outputs": [],
   "source": [
    "price = data['Close']"
   ]
  },
  {
   "cell_type": "code",
   "execution_count": 39,
   "id": "d5b6438b-4968-416c-a98a-a50cf00b01e0",
   "metadata": {},
   "outputs": [],
   "source": [
    "training, testing = train_test_split(price, test_size=0.3, shuffle=False)"
   ]
  },
  {
   "cell_type": "code",
   "execution_count": 41,
   "id": "233526df-f71f-4ad5-957e-1e99428e38e6",
   "metadata": {},
   "outputs": [
    {
     "name": "stdout",
     "output_type": "stream",
     "text": [
      "1159\n",
      "498\n"
     ]
    }
   ],
   "source": [
    "print(len(training))\n",
    "print(len(testing))"
   ]
  },
  {
   "cell_type": "markdown",
   "id": "ee48e04c-e282-414c-9546-3997c31cd9df",
   "metadata": {},
   "source": [
    "### Scale Data"
   ]
  },
  {
   "cell_type": "code",
   "execution_count": 42,
   "id": "5a0771cd-f5c2-46e7-907e-4ecfb7df0213",
   "metadata": {},
   "outputs": [],
   "source": [
    "# Scaling data\n",
    "from sklearn.preprocessing import MinMaxScaler\n",
    "scaler = MinMaxScaler(feature_range=(0,1))"
   ]
  },
  {
   "cell_type": "code",
   "execution_count": 43,
   "id": "1aa7b8f7-82cd-46b7-8056-d508c274d4c4",
   "metadata": {},
   "outputs": [],
   "source": [
    "training_trans = scaler.fit_transform(training.values.reshape(-1, 1))"
   ]
  },
  {
   "cell_type": "code",
   "execution_count": 44,
   "id": "aa76fcae-5b2e-44a4-b6b1-1bf3c00c851d",
   "metadata": {},
   "outputs": [
    {
     "data": {
      "text/plain": [
       "array([[0.16153703],\n",
       "       [0.15497043],\n",
       "       [0.09649022],\n",
       "       ...,\n",
       "       [0.07670372],\n",
       "       [0.07740152],\n",
       "       [0.07728656]])"
      ]
     },
     "execution_count": 44,
     "metadata": {},
     "output_type": "execute_result"
    }
   ],
   "source": [
    "training_trans"
   ]
  },
  {
   "cell_type": "markdown",
   "id": "288de8aa-8189-4e05-a6a6-3fec067e1c03",
   "metadata": {},
   "source": [
    "### X,Y Split"
   ]
  },
  {
   "cell_type": "code",
   "execution_count": 45,
   "id": "32ee1ab5-90b1-4a2c-9469-eba5dbd20a61",
   "metadata": {
    "scrolled": true
   },
   "outputs": [],
   "source": [
    "x_train = [] # Steps, Features\n",
    "y_train = [] # Prediction Output\n",
    "\n",
    "for i in range(100,len(training)):\n",
    "    x_train.append(training_trans[i-100:i])\n",
    "    y_train.append(training_trans[i,0])\n",
    "\n",
    "x_train, y_train = np.array(x_train), np.array(y_train)"
   ]
  },
  {
   "cell_type": "code",
   "execution_count": 46,
   "id": "25a2ffb9-0474-4a96-8ba6-aff43694bb28",
   "metadata": {},
   "outputs": [
    {
     "data": {
      "text/plain": [
       "(1059, 100, 1)"
      ]
     },
     "execution_count": 46,
     "metadata": {},
     "output_type": "execute_result"
    }
   ],
   "source": [
    "x_train.shape"
   ]
  },
  {
   "cell_type": "markdown",
   "id": "a609adf8-b6ff-4751-a2ce-fea5cce80980",
   "metadata": {},
   "source": [
    "### Model Training"
   ]
  },
  {
   "cell_type": "code",
   "execution_count": 47,
   "id": "03c2b75d-8d7a-49bd-af65-24982048fc35",
   "metadata": {},
   "outputs": [],
   "source": [
    "from keras.layers import Dense, Dropout, LSTM\n",
    "from keras.models import Sequential"
   ]
  },
  {
   "cell_type": "code",
   "execution_count": 48,
   "id": "acb4148d-73f8-4510-a754-65ffb528bd28",
   "metadata": {},
   "outputs": [
    {
     "name": "stderr",
     "output_type": "stream",
     "text": [
      "E:\\PROJECTS - AI\\ml-stockprice-prediction-lstm\\env\\Lib\\site-packages\\keras\\src\\layers\\rnn\\rnn.py:204: UserWarning: Do not pass an `input_shape`/`input_dim` argument to a layer. When using Sequential models, prefer using an `Input(shape)` object as the first layer in the model instead.\n",
      "  super().__init__(**kwargs)\n"
     ]
    }
   ],
   "source": [
    "model = Sequential()\n",
    "\n",
    "# Layer 1\n",
    "model.add(LSTM(units= 50, activation = 'relu', return_sequences=True,input_shape=(x_train.shape[1],1))) #1 bcz 1 column price\n",
    "model.add(Dropout(0.2))\n",
    "\n",
    "# Layer 2\n",
    "model.add(LSTM(units= 60, activation = 'relu', return_sequences=True))\n",
    "model.add(Dropout(0.3))\n",
    "\n",
    "# Layer 3\n",
    "model.add(LSTM(units= 80, activation = 'relu', return_sequences=True))\n",
    "model.add(Dropout(0.4))\n",
    "\n",
    "# Layer 4\n",
    "model.add(LSTM(units= 120, activation = 'relu'))\n",
    "model.add(Dropout(0.5))\n",
    "\n",
    "model.add(Dense(units=1))"
   ]
  },
  {
   "cell_type": "code",
   "execution_count": 49,
   "id": "9376c412-7974-4b69-8a8e-d0b0f9da6019",
   "metadata": {},
   "outputs": [
    {
     "data": {
      "text/html": [
       "<pre style=\"white-space:pre;overflow-x:auto;line-height:normal;font-family:Menlo,'DejaVu Sans Mono',consolas,'Courier New',monospace\"><span style=\"font-weight: bold\">Model: \"sequential_1\"</span>\n",
       "</pre>\n"
      ],
      "text/plain": [
       "\u001b[1mModel: \"sequential_1\"\u001b[0m\n"
      ]
     },
     "metadata": {},
     "output_type": "display_data"
    },
    {
     "data": {
      "text/html": [
       "<pre style=\"white-space:pre;overflow-x:auto;line-height:normal;font-family:Menlo,'DejaVu Sans Mono',consolas,'Courier New',monospace\">┏━━━━━━━━━━━━━━━━━━━━━━━━━━━━━━━━━━━┳━━━━━━━━━━━━━━━━━━━━━━━━━━━┳━━━━━━━━━━━━━━━━┓\n",
       "┃<span style=\"font-weight: bold\"> Layer (type)                      </span>┃<span style=\"font-weight: bold\"> Output Shape              </span>┃<span style=\"font-weight: bold\">        Param # </span>┃\n",
       "┡━━━━━━━━━━━━━━━━━━━━━━━━━━━━━━━━━━━╇━━━━━━━━━━━━━━━━━━━━━━━━━━━╇━━━━━━━━━━━━━━━━┩\n",
       "│ lstm_4 (<span style=\"color: #0087ff; text-decoration-color: #0087ff\">LSTM</span>)                     │ (<span style=\"color: #00d7ff; text-decoration-color: #00d7ff\">None</span>, <span style=\"color: #00af00; text-decoration-color: #00af00\">100</span>, <span style=\"color: #00af00; text-decoration-color: #00af00\">50</span>)           │         <span style=\"color: #00af00; text-decoration-color: #00af00\">10,400</span> │\n",
       "├───────────────────────────────────┼───────────────────────────┼────────────────┤\n",
       "│ dropout_4 (<span style=\"color: #0087ff; text-decoration-color: #0087ff\">Dropout</span>)               │ (<span style=\"color: #00d7ff; text-decoration-color: #00d7ff\">None</span>, <span style=\"color: #00af00; text-decoration-color: #00af00\">100</span>, <span style=\"color: #00af00; text-decoration-color: #00af00\">50</span>)           │              <span style=\"color: #00af00; text-decoration-color: #00af00\">0</span> │\n",
       "├───────────────────────────────────┼───────────────────────────┼────────────────┤\n",
       "│ lstm_5 (<span style=\"color: #0087ff; text-decoration-color: #0087ff\">LSTM</span>)                     │ (<span style=\"color: #00d7ff; text-decoration-color: #00d7ff\">None</span>, <span style=\"color: #00af00; text-decoration-color: #00af00\">100</span>, <span style=\"color: #00af00; text-decoration-color: #00af00\">60</span>)           │         <span style=\"color: #00af00; text-decoration-color: #00af00\">26,640</span> │\n",
       "├───────────────────────────────────┼───────────────────────────┼────────────────┤\n",
       "│ dropout_5 (<span style=\"color: #0087ff; text-decoration-color: #0087ff\">Dropout</span>)               │ (<span style=\"color: #00d7ff; text-decoration-color: #00d7ff\">None</span>, <span style=\"color: #00af00; text-decoration-color: #00af00\">100</span>, <span style=\"color: #00af00; text-decoration-color: #00af00\">60</span>)           │              <span style=\"color: #00af00; text-decoration-color: #00af00\">0</span> │\n",
       "├───────────────────────────────────┼───────────────────────────┼────────────────┤\n",
       "│ lstm_6 (<span style=\"color: #0087ff; text-decoration-color: #0087ff\">LSTM</span>)                     │ (<span style=\"color: #00d7ff; text-decoration-color: #00d7ff\">None</span>, <span style=\"color: #00af00; text-decoration-color: #00af00\">100</span>, <span style=\"color: #00af00; text-decoration-color: #00af00\">80</span>)           │         <span style=\"color: #00af00; text-decoration-color: #00af00\">45,120</span> │\n",
       "├───────────────────────────────────┼───────────────────────────┼────────────────┤\n",
       "│ dropout_6 (<span style=\"color: #0087ff; text-decoration-color: #0087ff\">Dropout</span>)               │ (<span style=\"color: #00d7ff; text-decoration-color: #00d7ff\">None</span>, <span style=\"color: #00af00; text-decoration-color: #00af00\">100</span>, <span style=\"color: #00af00; text-decoration-color: #00af00\">80</span>)           │              <span style=\"color: #00af00; text-decoration-color: #00af00\">0</span> │\n",
       "├───────────────────────────────────┼───────────────────────────┼────────────────┤\n",
       "│ lstm_7 (<span style=\"color: #0087ff; text-decoration-color: #0087ff\">LSTM</span>)                     │ (<span style=\"color: #00d7ff; text-decoration-color: #00d7ff\">None</span>, <span style=\"color: #00af00; text-decoration-color: #00af00\">120</span>)               │         <span style=\"color: #00af00; text-decoration-color: #00af00\">96,480</span> │\n",
       "├───────────────────────────────────┼───────────────────────────┼────────────────┤\n",
       "│ dropout_7 (<span style=\"color: #0087ff; text-decoration-color: #0087ff\">Dropout</span>)               │ (<span style=\"color: #00d7ff; text-decoration-color: #00d7ff\">None</span>, <span style=\"color: #00af00; text-decoration-color: #00af00\">120</span>)               │              <span style=\"color: #00af00; text-decoration-color: #00af00\">0</span> │\n",
       "├───────────────────────────────────┼───────────────────────────┼────────────────┤\n",
       "│ dense_1 (<span style=\"color: #0087ff; text-decoration-color: #0087ff\">Dense</span>)                   │ (<span style=\"color: #00d7ff; text-decoration-color: #00d7ff\">None</span>, <span style=\"color: #00af00; text-decoration-color: #00af00\">1</span>)                 │            <span style=\"color: #00af00; text-decoration-color: #00af00\">121</span> │\n",
       "└───────────────────────────────────┴───────────────────────────┴────────────────┘\n",
       "</pre>\n"
      ],
      "text/plain": [
       "┏━━━━━━━━━━━━━━━━━━━━━━━━━━━━━━━━━━━┳━━━━━━━━━━━━━━━━━━━━━━━━━━━┳━━━━━━━━━━━━━━━━┓\n",
       "┃\u001b[1m \u001b[0m\u001b[1mLayer (type)                     \u001b[0m\u001b[1m \u001b[0m┃\u001b[1m \u001b[0m\u001b[1mOutput Shape             \u001b[0m\u001b[1m \u001b[0m┃\u001b[1m \u001b[0m\u001b[1m       Param #\u001b[0m\u001b[1m \u001b[0m┃\n",
       "┡━━━━━━━━━━━━━━━━━━━━━━━━━━━━━━━━━━━╇━━━━━━━━━━━━━━━━━━━━━━━━━━━╇━━━━━━━━━━━━━━━━┩\n",
       "│ lstm_4 (\u001b[38;5;33mLSTM\u001b[0m)                     │ (\u001b[38;5;45mNone\u001b[0m, \u001b[38;5;34m100\u001b[0m, \u001b[38;5;34m50\u001b[0m)           │         \u001b[38;5;34m10,400\u001b[0m │\n",
       "├───────────────────────────────────┼───────────────────────────┼────────────────┤\n",
       "│ dropout_4 (\u001b[38;5;33mDropout\u001b[0m)               │ (\u001b[38;5;45mNone\u001b[0m, \u001b[38;5;34m100\u001b[0m, \u001b[38;5;34m50\u001b[0m)           │              \u001b[38;5;34m0\u001b[0m │\n",
       "├───────────────────────────────────┼───────────────────────────┼────────────────┤\n",
       "│ lstm_5 (\u001b[38;5;33mLSTM\u001b[0m)                     │ (\u001b[38;5;45mNone\u001b[0m, \u001b[38;5;34m100\u001b[0m, \u001b[38;5;34m60\u001b[0m)           │         \u001b[38;5;34m26,640\u001b[0m │\n",
       "├───────────────────────────────────┼───────────────────────────┼────────────────┤\n",
       "│ dropout_5 (\u001b[38;5;33mDropout\u001b[0m)               │ (\u001b[38;5;45mNone\u001b[0m, \u001b[38;5;34m100\u001b[0m, \u001b[38;5;34m60\u001b[0m)           │              \u001b[38;5;34m0\u001b[0m │\n",
       "├───────────────────────────────────┼───────────────────────────┼────────────────┤\n",
       "│ lstm_6 (\u001b[38;5;33mLSTM\u001b[0m)                     │ (\u001b[38;5;45mNone\u001b[0m, \u001b[38;5;34m100\u001b[0m, \u001b[38;5;34m80\u001b[0m)           │         \u001b[38;5;34m45,120\u001b[0m │\n",
       "├───────────────────────────────────┼───────────────────────────┼────────────────┤\n",
       "│ dropout_6 (\u001b[38;5;33mDropout\u001b[0m)               │ (\u001b[38;5;45mNone\u001b[0m, \u001b[38;5;34m100\u001b[0m, \u001b[38;5;34m80\u001b[0m)           │              \u001b[38;5;34m0\u001b[0m │\n",
       "├───────────────────────────────────┼───────────────────────────┼────────────────┤\n",
       "│ lstm_7 (\u001b[38;5;33mLSTM\u001b[0m)                     │ (\u001b[38;5;45mNone\u001b[0m, \u001b[38;5;34m120\u001b[0m)               │         \u001b[38;5;34m96,480\u001b[0m │\n",
       "├───────────────────────────────────┼───────────────────────────┼────────────────┤\n",
       "│ dropout_7 (\u001b[38;5;33mDropout\u001b[0m)               │ (\u001b[38;5;45mNone\u001b[0m, \u001b[38;5;34m120\u001b[0m)               │              \u001b[38;5;34m0\u001b[0m │\n",
       "├───────────────────────────────────┼───────────────────────────┼────────────────┤\n",
       "│ dense_1 (\u001b[38;5;33mDense\u001b[0m)                   │ (\u001b[38;5;45mNone\u001b[0m, \u001b[38;5;34m1\u001b[0m)                 │            \u001b[38;5;34m121\u001b[0m │\n",
       "└───────────────────────────────────┴───────────────────────────┴────────────────┘\n"
      ]
     },
     "metadata": {},
     "output_type": "display_data"
    },
    {
     "data": {
      "text/html": [
       "<pre style=\"white-space:pre;overflow-x:auto;line-height:normal;font-family:Menlo,'DejaVu Sans Mono',consolas,'Courier New',monospace\"><span style=\"font-weight: bold\"> Total params: </span><span style=\"color: #00af00; text-decoration-color: #00af00\">178,761</span> (698.29 KB)\n",
       "</pre>\n"
      ],
      "text/plain": [
       "\u001b[1m Total params: \u001b[0m\u001b[38;5;34m178,761\u001b[0m (698.29 KB)\n"
      ]
     },
     "metadata": {},
     "output_type": "display_data"
    },
    {
     "data": {
      "text/html": [
       "<pre style=\"white-space:pre;overflow-x:auto;line-height:normal;font-family:Menlo,'DejaVu Sans Mono',consolas,'Courier New',monospace\"><span style=\"font-weight: bold\"> Trainable params: </span><span style=\"color: #00af00; text-decoration-color: #00af00\">178,761</span> (698.29 KB)\n",
       "</pre>\n"
      ],
      "text/plain": [
       "\u001b[1m Trainable params: \u001b[0m\u001b[38;5;34m178,761\u001b[0m (698.29 KB)\n"
      ]
     },
     "metadata": {},
     "output_type": "display_data"
    },
    {
     "data": {
      "text/html": [
       "<pre style=\"white-space:pre;overflow-x:auto;line-height:normal;font-family:Menlo,'DejaVu Sans Mono',consolas,'Courier New',monospace\"><span style=\"font-weight: bold\"> Non-trainable params: </span><span style=\"color: #00af00; text-decoration-color: #00af00\">0</span> (0.00 B)\n",
       "</pre>\n"
      ],
      "text/plain": [
       "\u001b[1m Non-trainable params: \u001b[0m\u001b[38;5;34m0\u001b[0m (0.00 B)\n"
      ]
     },
     "metadata": {},
     "output_type": "display_data"
    }
   ],
   "source": [
    "model.summary()"
   ]
  },
  {
   "cell_type": "code",
   "execution_count": 50,
   "id": "0cd3975d-9cbd-421d-8fad-7335c04162bc",
   "metadata": {},
   "outputs": [
    {
     "name": "stdout",
     "output_type": "stream",
     "text": [
      "Epoch 1/50\n",
      "\u001b[1m34/34\u001b[0m \u001b[32m━━━━━━━━━━━━━━━━━━━━\u001b[0m\u001b[37m\u001b[0m \u001b[1m13s\u001b[0m 173ms/step - loss: 0.0618\n",
      "Epoch 2/50\n",
      "\u001b[1m34/34\u001b[0m \u001b[32m━━━━━━━━━━━━━━━━━━━━\u001b[0m\u001b[37m\u001b[0m \u001b[1m6s\u001b[0m 162ms/step - loss: 0.0119\n",
      "Epoch 3/50\n",
      "\u001b[1m34/34\u001b[0m \u001b[32m━━━━━━━━━━━━━━━━━━━━\u001b[0m\u001b[37m\u001b[0m \u001b[1m6s\u001b[0m 180ms/step - loss: 0.0110\n",
      "Epoch 4/50\n",
      "\u001b[1m34/34\u001b[0m \u001b[32m━━━━━━━━━━━━━━━━━━━━\u001b[0m\u001b[37m\u001b[0m \u001b[1m6s\u001b[0m 171ms/step - loss: 0.0089\n",
      "Epoch 5/50\n",
      "\u001b[1m34/34\u001b[0m \u001b[32m━━━━━━━━━━━━━━━━━━━━\u001b[0m\u001b[37m\u001b[0m \u001b[1m6s\u001b[0m 165ms/step - loss: 0.0082\n",
      "Epoch 6/50\n",
      "\u001b[1m34/34\u001b[0m \u001b[32m━━━━━━━━━━━━━━━━━━━━\u001b[0m\u001b[37m\u001b[0m \u001b[1m6s\u001b[0m 187ms/step - loss: 0.0081\n",
      "Epoch 7/50\n",
      "\u001b[1m34/34\u001b[0m \u001b[32m━━━━━━━━━━━━━━━━━━━━\u001b[0m\u001b[37m\u001b[0m \u001b[1m6s\u001b[0m 170ms/step - loss: 0.0076\n",
      "Epoch 8/50\n",
      "\u001b[1m34/34\u001b[0m \u001b[32m━━━━━━━━━━━━━━━━━━━━\u001b[0m\u001b[37m\u001b[0m \u001b[1m6s\u001b[0m 177ms/step - loss: 0.0058\n",
      "Epoch 9/50\n",
      "\u001b[1m34/34\u001b[0m \u001b[32m━━━━━━━━━━━━━━━━━━━━\u001b[0m\u001b[37m\u001b[0m \u001b[1m5s\u001b[0m 157ms/step - loss: 0.0066\n",
      "Epoch 10/50\n",
      "\u001b[1m34/34\u001b[0m \u001b[32m━━━━━━━━━━━━━━━━━━━━\u001b[0m\u001b[37m\u001b[0m \u001b[1m11s\u001b[0m 164ms/step - loss: 0.0076\n",
      "Epoch 11/50\n",
      "\u001b[1m34/34\u001b[0m \u001b[32m━━━━━━━━━━━━━━━━━━━━\u001b[0m\u001b[37m\u001b[0m \u001b[1m5s\u001b[0m 158ms/step - loss: 0.0066\n",
      "Epoch 12/50\n",
      "\u001b[1m34/34\u001b[0m \u001b[32m━━━━━━━━━━━━━━━━━━━━\u001b[0m\u001b[37m\u001b[0m \u001b[1m6s\u001b[0m 169ms/step - loss: 0.0059\n",
      "Epoch 13/50\n",
      "\u001b[1m34/34\u001b[0m \u001b[32m━━━━━━━━━━━━━━━━━━━━\u001b[0m\u001b[37m\u001b[0m \u001b[1m5s\u001b[0m 158ms/step - loss: 0.0066\n",
      "Epoch 14/50\n",
      "\u001b[1m34/34\u001b[0m \u001b[32m━━━━━━━━━━━━━━━━━━━━\u001b[0m\u001b[37m\u001b[0m \u001b[1m7s\u001b[0m 212ms/step - loss: 0.0056\n",
      "Epoch 15/50\n",
      "\u001b[1m34/34\u001b[0m \u001b[32m━━━━━━━━━━━━━━━━━━━━\u001b[0m\u001b[37m\u001b[0m \u001b[1m7s\u001b[0m 205ms/step - loss: 0.0056\n",
      "Epoch 16/50\n",
      "\u001b[1m34/34\u001b[0m \u001b[32m━━━━━━━━━━━━━━━━━━━━\u001b[0m\u001b[37m\u001b[0m \u001b[1m7s\u001b[0m 200ms/step - loss: 0.0063\n",
      "Epoch 17/50\n",
      "\u001b[1m34/34\u001b[0m \u001b[32m━━━━━━━━━━━━━━━━━━━━\u001b[0m\u001b[37m\u001b[0m \u001b[1m7s\u001b[0m 193ms/step - loss: 0.0063\n",
      "Epoch 18/50\n",
      "\u001b[1m34/34\u001b[0m \u001b[32m━━━━━━━━━━━━━━━━━━━━\u001b[0m\u001b[37m\u001b[0m \u001b[1m7s\u001b[0m 198ms/step - loss: 0.0060\n",
      "Epoch 19/50\n",
      "\u001b[1m34/34\u001b[0m \u001b[32m━━━━━━━━━━━━━━━━━━━━\u001b[0m\u001b[37m\u001b[0m \u001b[1m7s\u001b[0m 192ms/step - loss: 0.0086\n",
      "Epoch 20/50\n",
      "\u001b[1m34/34\u001b[0m \u001b[32m━━━━━━━━━━━━━━━━━━━━\u001b[0m\u001b[37m\u001b[0m \u001b[1m7s\u001b[0m 208ms/step - loss: 0.0066\n",
      "Epoch 21/50\n",
      "\u001b[1m34/34\u001b[0m \u001b[32m━━━━━━━━━━━━━━━━━━━━\u001b[0m\u001b[37m\u001b[0m \u001b[1m8s\u001b[0m 243ms/step - loss: 0.0050\n",
      "Epoch 22/50\n",
      "\u001b[1m34/34\u001b[0m \u001b[32m━━━━━━━━━━━━━━━━━━━━\u001b[0m\u001b[37m\u001b[0m \u001b[1m9s\u001b[0m 213ms/step - loss: 0.0058\n",
      "Epoch 23/50\n",
      "\u001b[1m34/34\u001b[0m \u001b[32m━━━━━━━━━━━━━━━━━━━━\u001b[0m\u001b[37m\u001b[0m \u001b[1m9s\u001b[0m 267ms/step - loss: 0.0064\n",
      "Epoch 24/50\n",
      "\u001b[1m34/34\u001b[0m \u001b[32m━━━━━━━━━━━━━━━━━━━━\u001b[0m\u001b[37m\u001b[0m \u001b[1m11s\u001b[0m 316ms/step - loss: 0.0051\n",
      "Epoch 25/50\n",
      "\u001b[1m34/34\u001b[0m \u001b[32m━━━━━━━━━━━━━━━━━━━━\u001b[0m\u001b[37m\u001b[0m \u001b[1m18s\u001b[0m 223ms/step - loss: 0.0050\n",
      "Epoch 26/50\n",
      "\u001b[1m34/34\u001b[0m \u001b[32m━━━━━━━━━━━━━━━━━━━━\u001b[0m\u001b[37m\u001b[0m \u001b[1m6s\u001b[0m 161ms/step - loss: 0.0045\n",
      "Epoch 27/50\n",
      "\u001b[1m34/34\u001b[0m \u001b[32m━━━━━━━━━━━━━━━━━━━━\u001b[0m\u001b[37m\u001b[0m \u001b[1m6s\u001b[0m 168ms/step - loss: 0.0043\n",
      "Epoch 28/50\n",
      "\u001b[1m34/34\u001b[0m \u001b[32m━━━━━━━━━━━━━━━━━━━━\u001b[0m\u001b[37m\u001b[0m \u001b[1m5s\u001b[0m 158ms/step - loss: 0.0043\n",
      "Epoch 29/50\n",
      "\u001b[1m34/34\u001b[0m \u001b[32m━━━━━━━━━━━━━━━━━━━━\u001b[0m\u001b[37m\u001b[0m \u001b[1m6s\u001b[0m 172ms/step - loss: 0.0042\n",
      "Epoch 30/50\n",
      "\u001b[1m34/34\u001b[0m \u001b[32m━━━━━━━━━━━━━━━━━━━━\u001b[0m\u001b[37m\u001b[0m \u001b[1m5s\u001b[0m 160ms/step - loss: 0.0047\n",
      "Epoch 31/50\n",
      "\u001b[1m34/34\u001b[0m \u001b[32m━━━━━━━━━━━━━━━━━━━━\u001b[0m\u001b[37m\u001b[0m \u001b[1m6s\u001b[0m 167ms/step - loss: 0.0054\n",
      "Epoch 32/50\n",
      "\u001b[1m34/34\u001b[0m \u001b[32m━━━━━━━━━━━━━━━━━━━━\u001b[0m\u001b[37m\u001b[0m \u001b[1m6s\u001b[0m 164ms/step - loss: 0.0044\n",
      "Epoch 33/50\n",
      "\u001b[1m34/34\u001b[0m \u001b[32m━━━━━━━━━━━━━━━━━━━━\u001b[0m\u001b[37m\u001b[0m \u001b[1m6s\u001b[0m 179ms/step - loss: 0.0043\n",
      "Epoch 34/50\n",
      "\u001b[1m34/34\u001b[0m \u001b[32m━━━━━━━━━━━━━━━━━━━━\u001b[0m\u001b[37m\u001b[0m \u001b[1m7s\u001b[0m 215ms/step - loss: 0.0045\n",
      "Epoch 35/50\n",
      "\u001b[1m34/34\u001b[0m \u001b[32m━━━━━━━━━━━━━━━━━━━━\u001b[0m\u001b[37m\u001b[0m \u001b[1m6s\u001b[0m 177ms/step - loss: 0.0041\n",
      "Epoch 36/50\n",
      "\u001b[1m34/34\u001b[0m \u001b[32m━━━━━━━━━━━━━━━━━━━━\u001b[0m\u001b[37m\u001b[0m \u001b[1m7s\u001b[0m 191ms/step - loss: 0.0032\n",
      "Epoch 37/50\n",
      "\u001b[1m34/34\u001b[0m \u001b[32m━━━━━━━━━━━━━━━━━━━━\u001b[0m\u001b[37m\u001b[0m \u001b[1m22s\u001b[0m 543ms/step - loss: 0.0045\n",
      "Epoch 38/50\n",
      "\u001b[1m34/34\u001b[0m \u001b[32m━━━━━━━━━━━━━━━━━━━━\u001b[0m\u001b[37m\u001b[0m \u001b[1m16s\u001b[0m 376ms/step - loss: 0.0044\n",
      "Epoch 39/50\n",
      "\u001b[1m34/34\u001b[0m \u001b[32m━━━━━━━━━━━━━━━━━━━━\u001b[0m\u001b[37m\u001b[0m \u001b[1m8s\u001b[0m 215ms/step - loss: 0.0039\n",
      "Epoch 40/50\n",
      "\u001b[1m34/34\u001b[0m \u001b[32m━━━━━━━━━━━━━━━━━━━━\u001b[0m\u001b[37m\u001b[0m \u001b[1m7s\u001b[0m 201ms/step - loss: 0.0043\n",
      "Epoch 41/50\n",
      "\u001b[1m34/34\u001b[0m \u001b[32m━━━━━━━━━━━━━━━━━━━━\u001b[0m\u001b[37m\u001b[0m \u001b[1m11s\u001b[0m 227ms/step - loss: 0.0034\n",
      "Epoch 42/50\n",
      "\u001b[1m34/34\u001b[0m \u001b[32m━━━━━━━━━━━━━━━━━━━━\u001b[0m\u001b[37m\u001b[0m \u001b[1m7s\u001b[0m 202ms/step - loss: 0.0037\n",
      "Epoch 43/50\n",
      "\u001b[1m34/34\u001b[0m \u001b[32m━━━━━━━━━━━━━━━━━━━━\u001b[0m\u001b[37m\u001b[0m \u001b[1m7s\u001b[0m 206ms/step - loss: 0.0043\n",
      "Epoch 44/50\n",
      "\u001b[1m34/34\u001b[0m \u001b[32m━━━━━━━━━━━━━━━━━━━━\u001b[0m\u001b[37m\u001b[0m \u001b[1m7s\u001b[0m 209ms/step - loss: 0.0049\n",
      "Epoch 45/50\n",
      "\u001b[1m34/34\u001b[0m \u001b[32m━━━━━━━━━━━━━━━━━━━━\u001b[0m\u001b[37m\u001b[0m \u001b[1m14s\u001b[0m 414ms/step - loss: 0.0037\n",
      "Epoch 46/50\n",
      "\u001b[1m34/34\u001b[0m \u001b[32m━━━━━━━━━━━━━━━━━━━━\u001b[0m\u001b[37m\u001b[0m \u001b[1m8s\u001b[0m 241ms/step - loss: 0.0040\n",
      "Epoch 47/50\n",
      "\u001b[1m34/34\u001b[0m \u001b[32m━━━━━━━━━━━━━━━━━━━━\u001b[0m\u001b[37m\u001b[0m \u001b[1m8s\u001b[0m 219ms/step - loss: 0.0037\n",
      "Epoch 48/50\n",
      "\u001b[1m34/34\u001b[0m \u001b[32m━━━━━━━━━━━━━━━━━━━━\u001b[0m\u001b[37m\u001b[0m \u001b[1m11s\u001b[0m 317ms/step - loss: 0.0036\n",
      "Epoch 49/50\n",
      "\u001b[1m34/34\u001b[0m \u001b[32m━━━━━━━━━━━━━━━━━━━━\u001b[0m\u001b[37m\u001b[0m \u001b[1m7s\u001b[0m 216ms/step - loss: 0.0032\n",
      "Epoch 50/50\n",
      "\u001b[1m34/34\u001b[0m \u001b[32m━━━━━━━━━━━━━━━━━━━━\u001b[0m\u001b[37m\u001b[0m \u001b[1m7s\u001b[0m 205ms/step - loss: 0.0036\n"
     ]
    },
    {
     "data": {
      "text/plain": [
       "<keras.src.callbacks.history.History at 0x1c79242e790>"
      ]
     },
     "execution_count": 50,
     "metadata": {},
     "output_type": "execute_result"
    }
   ],
   "source": [
    "model.compile(optimizer='adam', loss='mean_squared_error')\n",
    "model.fit(x_train,y_train,epochs=50)"
   ]
  },
  {
   "cell_type": "code",
   "execution_count": 51,
   "id": "b73f6450-1816-4904-af65-ff3433afb9eb",
   "metadata": {},
   "outputs": [
    {
     "name": "stderr",
     "output_type": "stream",
     "text": [
      "WARNING:absl:You are saving your model as an HDF5 file via `model.save()` or `keras.saving.save_model(model)`. This file format is considered legacy. We recommend using instead the native Keras format, e.g. `model.save('my_model.keras')` or `keras.saving.save_model(model, 'my_model.keras')`. \n"
     ]
    }
   ],
   "source": [
    "model.save('kerasmodel.h5')"
   ]
  },
  {
   "cell_type": "markdown",
   "id": "24abbab1-ebde-4bd9-8eac-d96b6ae82f5a",
   "metadata": {},
   "source": [
    "### Create Testing Data"
   ]
  },
  {
   "cell_type": "code",
   "execution_count": 54,
   "id": "05c1b07f-2065-4536-9488-50d350747c9a",
   "metadata": {},
   "outputs": [
    {
     "data": {
      "text/plain": [
       "1059    0.080932\n",
       "1060    0.082877\n",
       "1061    0.081149\n",
       "1062    0.078958\n",
       "1063    0.077842\n",
       "          ...   \n",
       "1154    0.047194\n",
       "1155    0.049078\n",
       "1156    0.048113\n",
       "1157    0.048459\n",
       "1158    0.048402\n",
       "Name: Close, Length: 100, dtype: float64"
      ]
     },
     "execution_count": 54,
     "metadata": {},
     "output_type": "execute_result"
    }
   ],
   "source": [
    "training.tail(100)"
   ]
  },
  {
   "cell_type": "code",
   "execution_count": 52,
   "id": "e4a80e55-f5c0-43cf-aa97-6f8036be4e17",
   "metadata": {},
   "outputs": [
    {
     "data": {
      "text/plain": [
       "1159    0.048729\n",
       "1160    0.046154\n",
       "1161    0.045090\n",
       "1162    0.046487\n",
       "1163    0.048417\n",
       "          ...   \n",
       "1652    0.120330\n",
       "1653    0.113734\n",
       "1654    0.116196\n",
       "1655    0.116099\n",
       "1656    0.113619\n",
       "Name: Close, Length: 498, dtype: float64"
      ]
     },
     "execution_count": 52,
     "metadata": {},
     "output_type": "execute_result"
    }
   ],
   "source": [
    "testing"
   ]
  },
  {
   "cell_type": "code",
   "execution_count": 55,
   "id": "8ebe95cb-0357-4428-ad60-5f6c2bc40262",
   "metadata": {},
   "outputs": [],
   "source": [
    "past100days = testing.tail(100)"
   ]
  },
  {
   "cell_type": "code",
   "execution_count": 57,
   "id": "c5e50d85-bd1e-4ddd-9f0b-99d878767803",
   "metadata": {},
   "outputs": [],
   "source": [
    "final_df = pd.concat([past100days, testing], ignore_index=True)"
   ]
  },
  {
   "cell_type": "code",
   "execution_count": 58,
   "id": "c55fcd23-d377-457d-8be0-40dd10fb246e",
   "metadata": {},
   "outputs": [
    {
     "data": {
      "text/plain": [
       "0    0.090911\n",
       "1    0.091231\n",
       "2    0.090313\n",
       "3    0.092499\n",
       "4    0.089798\n",
       "Name: Close, dtype: float64"
      ]
     },
     "execution_count": 58,
     "metadata": {},
     "output_type": "execute_result"
    }
   ],
   "source": [
    " final_df.head()"
   ]
  },
  {
   "cell_type": "code",
   "execution_count": 60,
   "id": "9916e054-ee52-4e0f-b720-3f0f22e5de6e",
   "metadata": {},
   "outputs": [
    {
     "data": {
      "text/plain": [
       "(598,)"
      ]
     },
     "execution_count": 60,
     "metadata": {},
     "output_type": "execute_result"
    }
   ],
   "source": [
    "final_df.shape"
   ]
  },
  {
   "cell_type": "code",
   "execution_count": 61,
   "id": "cedaacf1-0c22-4f49-90e6-a2b653ec0f0a",
   "metadata": {},
   "outputs": [
    {
     "data": {
      "text/plain": [
       "0       0.090177\n",
       "1       0.086921\n",
       "2       0.057924\n",
       "3       0.052490\n",
       "4       0.048021\n",
       "          ...   \n",
       "1154    0.047194\n",
       "1155    0.049078\n",
       "1156    0.048113\n",
       "1157    0.048459\n",
       "1158    0.048402\n",
       "Name: Close, Length: 1159, dtype: float64"
      ]
     },
     "execution_count": 61,
     "metadata": {},
     "output_type": "execute_result"
    }
   ],
   "source": [
    "training"
   ]
  },
  {
   "cell_type": "code",
   "execution_count": 64,
   "id": "801787a1-1cdf-4988-ad7e-0abd38bf9185",
   "metadata": {},
   "outputs": [],
   "source": [
    "input_data = scaler.fit_transform(final_df.values.reshape(-1, 1))"
   ]
  },
  {
   "cell_type": "code",
   "execution_count": 65,
   "id": "e6bbd714-66d1-42aa-ad4a-303c4a71d726",
   "metadata": {},
   "outputs": [
    {
     "data": {
      "text/plain": [
       "array([[0.55868662],\n",
       "       [0.56196809],\n",
       "       [0.55255443],\n",
       "       [0.57497081],\n",
       "       [0.54727336],\n",
       "       [0.57202772],\n",
       "       [0.54470969],\n",
       "       [0.53957218],\n",
       "       [0.51987328],\n",
       "       [0.50746527],\n",
       "       [0.56591601],\n",
       "       [0.62105457],\n",
       "       [0.53193258],\n",
       "       [0.53007647],\n",
       "       [0.49578537],\n",
       "       [0.44191845],\n",
       "       [0.3976497 ],\n",
       "       [0.46292995],\n",
       "       [0.42116328],\n",
       "       [0.48099836],\n",
       "       [0.49066842],\n",
       "       [0.44743537],\n",
       "       [0.4587153 ],\n",
       "       [0.41670255],\n",
       "       [0.42413708],\n",
       "       [0.45250106],\n",
       "       [0.43655533],\n",
       "       [0.39773167],\n",
       "       [0.40117726],\n",
       "       [0.40939109],\n",
       "       [0.3999057 ],\n",
       "       [0.35664186],\n",
       "       [0.35067371],\n",
       "       [0.36726557],\n",
       "       [0.35794421],\n",
       "       [0.39077916],\n",
       "       [0.38975369],\n",
       "       [0.37866859],\n",
       "       [0.38947681],\n",
       "       [0.37436165],\n",
       "       [0.33954757],\n",
       "       [0.3466027 ],\n",
       "       [0.33596875],\n",
       "       [0.33699422],\n",
       "       [0.32795997],\n",
       "       [0.3383991 ],\n",
       "       [0.39483993],\n",
       "       [0.40461253],\n",
       "       [0.4059148 ],\n",
       "       [0.44127239],\n",
       "       [0.43592975],\n",
       "       [0.42928483],\n",
       "       [0.4442154 ],\n",
       "       [0.46232492],\n",
       "       [0.4724974 ],\n",
       "       [0.47619924],\n",
       "       [0.50473756],\n",
       "       [0.48265964],\n",
       "       [0.54675031],\n",
       "       [0.77488257],\n",
       "       [0.72837837],\n",
       "       [0.69862998],\n",
       "       [0.8170492 ],\n",
       "       [0.74838495],\n",
       "       [0.75540928],\n",
       "       [0.74655962],\n",
       "       [0.77102686],\n",
       "       [0.73635635],\n",
       "       [0.79051047],\n",
       "       [0.80046757],\n",
       "       [0.82388894],\n",
       "       [0.81028119],\n",
       "       [0.7852294 ],\n",
       "       [0.82988781],\n",
       "       [0.77230874],\n",
       "       [0.91664102],\n",
       "       [1.        ],\n",
       "       [0.96686762],\n",
       "       [0.96734956],\n",
       "       [0.91787156],\n",
       "       [0.98704862],\n",
       "       [0.992104  ],\n",
       "       [0.98634098],\n",
       "       [0.92849527],\n",
       "       [0.8596669 ],\n",
       "       [0.76276176],\n",
       "       [0.81970509],\n",
       "       [0.7736418 ],\n",
       "       [0.6652823 ],\n",
       "       [0.76859659],\n",
       "       [0.75429152],\n",
       "       [0.71757007],\n",
       "       [0.7197748 ],\n",
       "       [0.75303019],\n",
       "       [0.8277241 ],\n",
       "       [0.86036423],\n",
       "       [0.79272544],\n",
       "       [0.81797206],\n",
       "       [0.81697738],\n",
       "       [0.79154618],\n",
       "       [0.12613056],\n",
       "       [0.09972519],\n",
       "       [0.08881439],\n",
       "       [0.10313994],\n",
       "       [0.12293114],\n",
       "       [0.13476487],\n",
       "       [0.12894032],\n",
       "       [0.1333805 ],\n",
       "       [0.13058102],\n",
       "       [0.1238438 ],\n",
       "       [0.13291907],\n",
       "       [0.14623967],\n",
       "       [0.13046825],\n",
       "       [0.1281507 ],\n",
       "       [0.11406101],\n",
       "       [0.12024446],\n",
       "       [0.12472571],\n",
       "       [0.12150578],\n",
       "       [0.10908758],\n",
       "       [0.11757829],\n",
       "       [0.11924978],\n",
       "       [0.12261327],\n",
       "       [0.11796798],\n",
       "       [0.11184604],\n",
       "       [0.11617345],\n",
       "       [0.10510882],\n",
       "       [0.09580797],\n",
       "       [0.05816362],\n",
       "       [0.06782337],\n",
       "       [0.07654998],\n",
       "       [0.04541727],\n",
       "       [0.06569045],\n",
       "       [0.06377284],\n",
       "       [0.0716073 ],\n",
       "       [0.07279684],\n",
       "       [0.07593472],\n",
       "       [0.07265325],\n",
       "       [0.07707295],\n",
       "       [0.05959926],\n",
       "       [0.04301771],\n",
       "       [0.03132758],\n",
       "       [0.01131076],\n",
       "       [0.        ],\n",
       "       [0.01697124],\n",
       "       [0.02493898],\n",
       "       [0.01739168],\n",
       "       [0.02129865],\n",
       "       [0.01920673],\n",
       "       [0.02769744],\n",
       "       [0.03279396],\n",
       "       [0.05575383],\n",
       "       [0.08408705],\n",
       "       [0.0843229 ],\n",
       "       [0.09551058],\n",
       "       [0.11504545],\n",
       "       [0.14533728],\n",
       "       [0.1718657 ],\n",
       "       [0.16200089],\n",
       "       [0.17700324],\n",
       "       [0.18305341],\n",
       "       [0.18161778],\n",
       "       [0.25684489],\n",
       "       [0.36968561],\n",
       "       [0.35728791],\n",
       "       [0.33462545],\n",
       "       [0.3283086 ],\n",
       "       [0.26989888],\n",
       "       [0.31457784],\n",
       "       [0.31356261],\n",
       "       [0.3385529 ],\n",
       "       [0.31178863],\n",
       "       [0.33825554],\n",
       "       [0.28378351],\n",
       "       [0.28864414],\n",
       "       [0.34119855],\n",
       "       [0.31286529],\n",
       "       [0.36882425],\n",
       "       [0.37796103],\n",
       "       [0.34380317],\n",
       "       [0.31891549],\n",
       "       [0.3945836 ],\n",
       "       [0.39684984],\n",
       "       [0.35925672],\n",
       "       [0.40587377],\n",
       "       [0.53034312],\n",
       "       [0.51261309],\n",
       "       [0.50713712],\n",
       "       [0.52502102],\n",
       "       [0.5653828 ],\n",
       "       [0.4859308 ],\n",
       "       [0.5026252 ],\n",
       "       [0.51565863],\n",
       "       [0.52294961],\n",
       "       [0.51455118],\n",
       "       [0.47338955],\n",
       "       [0.47109252],\n",
       "       [0.45422385],\n",
       "       [0.41720504],\n",
       "       [0.39494246],\n",
       "       [0.39393755],\n",
       "       [0.36791155],\n",
       "       [0.33569187],\n",
       "       [0.35064299],\n",
       "       [0.33402042],\n",
       "       [0.28240942],\n",
       "       [0.28834678],\n",
       "       [0.28307595],\n",
       "       [0.28228634],\n",
       "       [0.26971429],\n",
       "       [0.24944115],\n",
       "       [0.21608319],\n",
       "       [0.23245967],\n",
       "       [0.22664536],\n",
       "       [0.2631104 ],\n",
       "       [0.28812116],\n",
       "       [0.30303127],\n",
       "       [0.24293979],\n",
       "       [0.25288665],\n",
       "       [0.29713486],\n",
       "       [0.26655591],\n",
       "       [0.29174102],\n",
       "       [0.25908038],\n",
       "       [0.28532172],\n",
       "       [0.24641604],\n",
       "       [0.26707892],\n",
       "       [0.241781  ],\n",
       "       [0.24458048],\n",
       "       [0.26260794],\n",
       "       [0.23421318],\n",
       "       [0.23807912],\n",
       "       [0.33098504],\n",
       "       [0.29162825],\n",
       "       [0.37901721],\n",
       "       [0.37986833],\n",
       "       [0.37369511],\n",
       "       [0.32462724],\n",
       "       [0.31812588],\n",
       "       [0.31330628],\n",
       "       [0.29861156],\n",
       "       [0.29291005],\n",
       "       [0.29094117],\n",
       "       [0.29009005],\n",
       "       [0.30553336],\n",
       "       [0.29701185],\n",
       "       [0.28631639],\n",
       "       [0.31057857],\n",
       "       [0.318413  ],\n",
       "       [0.32619623],\n",
       "       [0.3361431 ],\n",
       "       [0.30793292],\n",
       "       [0.32412482],\n",
       "       [0.26648413],\n",
       "       [0.26065957],\n",
       "       [0.23831498],\n",
       "       [0.25366599],\n",
       "       [0.2448676 ],\n",
       "       [0.24080683],\n",
       "       [0.251369  ],\n",
       "       [0.2454316 ],\n",
       "       [0.25451711],\n",
       "       [0.24869256],\n",
       "       [0.24908221],\n",
       "       [0.28053283],\n",
       "       [0.23560778],\n",
       "       [0.23012161],\n",
       "       [0.22705552],\n",
       "       [0.21566274],\n",
       "       [0.22559937],\n",
       "       [0.2112328 ],\n",
       "       [0.20623885],\n",
       "       [0.18582211],\n",
       "       [0.18132038],\n",
       "       [0.18363789],\n",
       "       [0.15337681],\n",
       "       [0.16285201],\n",
       "       [0.1534691 ],\n",
       "       [0.15772474],\n",
       "       [0.16364158],\n",
       "       [0.16319039],\n",
       "       [0.17320907],\n",
       "       [0.1633647 ],\n",
       "       [0.16789722],\n",
       "       [0.16991737],\n",
       "       [0.16235978],\n",
       "       [0.1596731 ],\n",
       "       [0.16218543],\n",
       "       [0.14793167],\n",
       "       [0.1459833 ],\n",
       "       [0.1610472 ],\n",
       "       [0.16031912],\n",
       "       [0.17413197],\n",
       "       [0.1677639 ],\n",
       "       [0.16802026],\n",
       "       [0.15292561],\n",
       "       [0.14209684],\n",
       "       [0.1478804 ],\n",
       "       [0.14177897],\n",
       "       [0.14118422],\n",
       "       [0.12772002],\n",
       "       [0.13454953],\n",
       "       [0.12231587],\n",
       "       [0.12557683],\n",
       "       [0.12303371],\n",
       "       [0.09297773],\n",
       "       [0.08160547],\n",
       "       [0.09040382],\n",
       "       [0.10658545],\n",
       "       [0.09231116],\n",
       "       [0.06682869],\n",
       "       [0.08174903],\n",
       "       [0.09557212],\n",
       "       [0.09007568],\n",
       "       [0.08799402],\n",
       "       [0.12888902],\n",
       "       [0.14442462],\n",
       "       [0.14162513],\n",
       "       [0.16121127],\n",
       "       [0.15169508],\n",
       "       [0.15701718],\n",
       "       [0.13564674],\n",
       "       [0.14509115],\n",
       "       [0.11527103],\n",
       "       [0.12174164],\n",
       "       [0.14538855],\n",
       "       [0.14664987],\n",
       "       [0.14008697],\n",
       "       [0.14128675],\n",
       "       [0.12419246],\n",
       "       [0.11103591],\n",
       "       [0.10012511],\n",
       "       [0.11002071],\n",
       "       [0.10983613],\n",
       "       [0.10989767],\n",
       "       [0.11350725],\n",
       "       [0.12164934],\n",
       "       [0.1218852 ],\n",
       "       [0.1636621 ],\n",
       "       [0.15082345],\n",
       "       [0.16034987],\n",
       "       [0.14773684],\n",
       "       [0.15937571],\n",
       "       [0.1673127 ],\n",
       "       [0.20268054],\n",
       "       [0.21137636],\n",
       "       [0.19658934],\n",
       "       [0.17607007],\n",
       "       [0.17448063],\n",
       "       [0.15934496],\n",
       "       [0.16275971],\n",
       "       [0.16381593],\n",
       "       [0.1580734 ],\n",
       "       [0.16620522],\n",
       "       [0.17847986],\n",
       "       [0.16887138],\n",
       "       [0.16260588],\n",
       "       [0.15779652],\n",
       "       [0.16585656],\n",
       "       [0.17349619],\n",
       "       [0.17164012],\n",
       "       [0.16517979],\n",
       "       [0.21486289],\n",
       "       [0.20550054],\n",
       "       [0.26047499],\n",
       "       [0.23951476],\n",
       "       [0.21802128],\n",
       "       [0.20643368],\n",
       "       [0.20400336],\n",
       "       [0.21038168],\n",
       "       [0.29832444],\n",
       "       [0.31831046],\n",
       "       [0.26955026],\n",
       "       [0.2184212 ],\n",
       "       [0.23221354],\n",
       "       [0.29564799],\n",
       "       [0.25655777],\n",
       "       [0.25462992],\n",
       "       [0.23046004],\n",
       "       [0.26010585],\n",
       "       [0.23382349],\n",
       "       [0.23001908],\n",
       "       [0.22055416],\n",
       "       [0.22329211],\n",
       "       [0.20189092],\n",
       "       [0.20400336],\n",
       "       [0.17695194],\n",
       "       [0.16396973],\n",
       "       [0.13875386],\n",
       "       [0.13620051],\n",
       "       [0.12520766],\n",
       "       [0.12268505],\n",
       "       [0.13303184],\n",
       "       [0.13140138],\n",
       "       [0.13822065],\n",
       "       [0.1379848 ],\n",
       "       [0.12955559],\n",
       "       [0.11722963],\n",
       "       [0.10225807],\n",
       "       [0.10883121],\n",
       "       [0.13585184],\n",
       "       [0.15533545],\n",
       "       [0.15929369],\n",
       "       [0.15643266],\n",
       "       [0.13527761],\n",
       "       [0.14046638],\n",
       "       [0.14932627],\n",
       "       [0.14487581],\n",
       "       [0.14352223],\n",
       "       [0.14400418],\n",
       "       [0.15880147],\n",
       "       [0.13775919],\n",
       "       [0.14455794],\n",
       "       [0.13314465],\n",
       "       [0.13355485],\n",
       "       [0.13793353],\n",
       "       [0.13420087],\n",
       "       [0.13657992],\n",
       "       [0.14717284],\n",
       "       [0.13836421],\n",
       "       [0.13266271],\n",
       "       [0.12748417],\n",
       "       [0.11975224],\n",
       "       [0.12316699],\n",
       "       [0.12097253],\n",
       "       [0.11926006],\n",
       "       [0.10316045],\n",
       "       [0.10780574],\n",
       "       [0.10451403],\n",
       "       [0.09429028],\n",
       "       [0.10501653],\n",
       "       [0.10658545],\n",
       "       [0.10622655],\n",
       "       [0.1136816 ],\n",
       "       [0.10524211],\n",
       "       [0.11307657],\n",
       "       [0.09625917],\n",
       "       [0.11280996],\n",
       "       [0.12923768],\n",
       "       [0.13840524],\n",
       "       [0.1576222 ],\n",
       "       [0.15317174],\n",
       "       [0.16053446],\n",
       "       [0.16937388],\n",
       "       [0.14934679],\n",
       "       [0.1592629 ],\n",
       "       [0.1646978 ],\n",
       "       [0.17718779],\n",
       "       [0.16466705],\n",
       "       [0.17611109],\n",
       "       [0.19543059],\n",
       "       [0.18818064],\n",
       "       [0.19758406],\n",
       "       [0.19961444],\n",
       "       [0.22715805],\n",
       "       [0.2169651 ],\n",
       "       [0.24794397],\n",
       "       [0.23938147],\n",
       "       [0.27071929],\n",
       "       [0.26120306],\n",
       "       [0.26369492],\n",
       "       [0.23322874],\n",
       "       [0.22632745],\n",
       "       [0.260434  ],\n",
       "       [0.24994361],\n",
       "       [0.28095327],\n",
       "       [0.25882401],\n",
       "       [0.26820688],\n",
       "       [0.304108  ],\n",
       "       [0.22914745],\n",
       "       [0.26738655],\n",
       "       [0.25810622],\n",
       "       [0.26546893],\n",
       "       [0.27798971],\n",
       "       [0.2716627 ],\n",
       "       [0.25768577],\n",
       "       [0.2537788 ],\n",
       "       [0.24316536],\n",
       "       [0.24417032],\n",
       "       [0.25071271],\n",
       "       [0.26716093],\n",
       "       [0.2651613 ],\n",
       "       [0.2809943 ],\n",
       "       [0.30237497],\n",
       "       [0.32939557],\n",
       "       [0.33623539],\n",
       "       [0.38789765],\n",
       "       [0.38917945],\n",
       "       [0.39613197],\n",
       "       [0.35416024],\n",
       "       [0.40052096],\n",
       "       [0.41426196],\n",
       "       [0.48620768],\n",
       "       [0.44646117],\n",
       "       [0.4457844 ],\n",
       "       [0.4318485 ],\n",
       "       [0.44162102],\n",
       "       [0.46267354],\n",
       "       [0.51858116],\n",
       "       [0.56207062],\n",
       "       [0.55868662],\n",
       "       [0.56196809],\n",
       "       [0.55255443],\n",
       "       [0.57497081],\n",
       "       [0.54727336],\n",
       "       [0.57202772],\n",
       "       [0.54470969],\n",
       "       [0.53957218],\n",
       "       [0.51987328],\n",
       "       [0.50746527],\n",
       "       [0.56591601],\n",
       "       [0.62105457],\n",
       "       [0.53193258],\n",
       "       [0.53007647],\n",
       "       [0.49578537],\n",
       "       [0.44191845],\n",
       "       [0.3976497 ],\n",
       "       [0.46292995],\n",
       "       [0.42116328],\n",
       "       [0.48099836],\n",
       "       [0.49066842],\n",
       "       [0.44743537],\n",
       "       [0.4587153 ],\n",
       "       [0.41670255],\n",
       "       [0.42413708],\n",
       "       [0.45250106],\n",
       "       [0.43655533],\n",
       "       [0.39773167],\n",
       "       [0.40117726],\n",
       "       [0.40939109],\n",
       "       [0.3999057 ],\n",
       "       [0.35664186],\n",
       "       [0.35067371],\n",
       "       [0.36726557],\n",
       "       [0.35794421],\n",
       "       [0.39077916],\n",
       "       [0.38975369],\n",
       "       [0.37866859],\n",
       "       [0.38947681],\n",
       "       [0.37436165],\n",
       "       [0.33954757],\n",
       "       [0.3466027 ],\n",
       "       [0.33596875],\n",
       "       [0.33699422],\n",
       "       [0.32795997],\n",
       "       [0.3383991 ],\n",
       "       [0.39483993],\n",
       "       [0.40461253],\n",
       "       [0.4059148 ],\n",
       "       [0.44127239],\n",
       "       [0.43592975],\n",
       "       [0.42928483],\n",
       "       [0.4442154 ],\n",
       "       [0.46232492],\n",
       "       [0.4724974 ],\n",
       "       [0.47619924],\n",
       "       [0.50473756],\n",
       "       [0.48265964],\n",
       "       [0.54675031],\n",
       "       [0.77488257],\n",
       "       [0.72837837],\n",
       "       [0.69862998],\n",
       "       [0.8170492 ],\n",
       "       [0.74838495],\n",
       "       [0.75540928],\n",
       "       [0.74655962],\n",
       "       [0.77102686],\n",
       "       [0.73635635],\n",
       "       [0.79051047],\n",
       "       [0.80046757],\n",
       "       [0.82388894],\n",
       "       [0.81028119],\n",
       "       [0.7852294 ],\n",
       "       [0.82988781],\n",
       "       [0.77230874],\n",
       "       [0.91664102],\n",
       "       [1.        ],\n",
       "       [0.96686762],\n",
       "       [0.96734956],\n",
       "       [0.91787156],\n",
       "       [0.98704862],\n",
       "       [0.992104  ],\n",
       "       [0.98634098],\n",
       "       [0.92849527],\n",
       "       [0.8596669 ],\n",
       "       [0.76276176],\n",
       "       [0.81970509],\n",
       "       [0.7736418 ],\n",
       "       [0.6652823 ],\n",
       "       [0.76859659],\n",
       "       [0.75429152],\n",
       "       [0.71757007],\n",
       "       [0.7197748 ],\n",
       "       [0.75303019],\n",
       "       [0.8277241 ],\n",
       "       [0.86036423],\n",
       "       [0.79272544],\n",
       "       [0.81797206],\n",
       "       [0.81697738],\n",
       "       [0.79154618]])"
      ]
     },
     "execution_count": 65,
     "metadata": {},
     "output_type": "execute_result"
    }
   ],
   "source": [
    "input_data"
   ]
  },
  {
   "cell_type": "code",
   "execution_count": 67,
   "id": "d4801a93-a40e-4a61-8183-d62bc63e15fb",
   "metadata": {},
   "outputs": [
    {
     "data": {
      "text/plain": [
       "(598, 1)"
      ]
     },
     "execution_count": 67,
     "metadata": {},
     "output_type": "execute_result"
    }
   ],
   "source": [
    "input_data.shape"
   ]
  },
  {
   "cell_type": "code",
   "execution_count": 68,
   "id": "5188a39f-05c6-43cf-9cee-628a946d78ee",
   "metadata": {},
   "outputs": [],
   "source": [
    "x_test = []\n",
    "y_test = []\n",
    "\n",
    "for i in range(100,input_data.shape[0]):\n",
    "    x_test.append(input_data[i-100:i])\n",
    "    y_test.append(input_data[i,0])\n",
    "\n",
    "x_test, y_test = np.array(x_test), np.array(y_test)"
   ]
  },
  {
   "cell_type": "code",
   "execution_count": 72,
   "id": "dda53c67-a873-46e7-bf01-e2cf982dfb3f",
   "metadata": {},
   "outputs": [
    {
     "data": {
      "text/plain": [
       "(498,)"
      ]
     },
     "execution_count": 72,
     "metadata": {},
     "output_type": "execute_result"
    }
   ],
   "source": [
    "y_test.shape"
   ]
  },
  {
   "cell_type": "markdown",
   "id": "a2e63a3f-a58b-4d8d-b832-5af1460a8aea",
   "metadata": {},
   "source": [
    "### Making Predictions"
   ]
  },
  {
   "cell_type": "code",
   "execution_count": 69,
   "id": "d6b1053d-aab7-479b-a83d-14a2be15d76a",
   "metadata": {},
   "outputs": [
    {
     "name": "stdout",
     "output_type": "stream",
     "text": [
      "\u001b[1m16/16\u001b[0m \u001b[32m━━━━━━━━━━━━━━━━━━━━\u001b[0m\u001b[37m\u001b[0m \u001b[1m4s\u001b[0m 158ms/step\n"
     ]
    }
   ],
   "source": [
    "y_predicted = model.predict(x_test)"
   ]
  },
  {
   "cell_type": "code",
   "execution_count": 71,
   "id": "93bdc945-9fc5-48d2-9740-009950b3c136",
   "metadata": {},
   "outputs": [
    {
     "data": {
      "text/plain": [
       "(498, 1)"
      ]
     },
     "execution_count": 71,
     "metadata": {},
     "output_type": "execute_result"
    }
   ],
   "source": [
    "y_predicted.shape"
   ]
  },
  {
   "cell_type": "markdown",
   "id": "31291ebd-d455-4356-8dff-e8c478adee40",
   "metadata": {},
   "source": [
    "### Scale Up"
   ]
  },
  {
   "cell_type": "code",
   "execution_count": 79,
   "id": "b36108b3-19a5-48a4-8ae1-071472497b6d",
   "metadata": {},
   "outputs": [],
   "source": [
    "scale = scaler.scale_"
   ]
  },
  {
   "cell_type": "code",
   "execution_count": 80,
   "id": "e0ec917d-f910-4b7d-a3bc-767a2db9f445",
   "metadata": {},
   "outputs": [
    {
     "data": {
      "text/plain": [
       "10.254517035740408"
      ]
     },
     "execution_count": 80,
     "metadata": {},
     "output_type": "execute_result"
    }
   ],
   "source": [
    "scale[0]"
   ]
  },
  {
   "cell_type": "code",
   "execution_count": 81,
   "id": "c3730de8-ff23-4ab4-80cd-3f6bff85becd",
   "metadata": {},
   "outputs": [],
   "source": [
    "scale_factor = 1/scale[0]"
   ]
  },
  {
   "cell_type": "code",
   "execution_count": 82,
   "id": "ca121258-549b-4a24-801b-57884b0a9e10",
   "metadata": {},
   "outputs": [],
   "source": [
    "y_predicted = y_predicted * scale_factor\n",
    "y_test = y_test * scale_factor"
   ]
  },
  {
   "cell_type": "code",
   "execution_count": 77,
   "id": "a86a6f56-9005-48f8-b553-cfbddbb84318",
   "metadata": {},
   "outputs": [
    {
     "data": {
      "image/png": "[encoded data removed]",
      "text/plain": [
       "<Figure size 1200x600 with 1 Axes>"
      ]
     },
     "metadata": {},
     "output_type": "display_data"
    }
   ],
   "source": [
    "plt.figure(figsize=(12,6))\n",
    "plt.plot(y_test,'b',label='Original Price')\n",
    "plt.plot(y_predicted,'r',label='Predicted Price')\n",
    "plt.xlabel('Time')\n",
    "plt.ylabel('Price')\n",
    "plt.legend()\n",
    "plt.show()"
   ]
  },
  {
   "cell_type": "code",
   "execution_count": null,
   "id": "0baf4a09-ec85-43dd-8b77-50f58fce79a3",
   "metadata": {},
   "outputs": [],
   "source": []
  }
 ],
 "metadata": {
  "kernelspec": {
   "display_name": "Python 3 (ipykernel)",
   "language": "python",
   "name": "python3"
  },
  "language_info": {
   "codemirror_mode": {
    "name": "ipython",
    "version": 3
   },
   "file_extension": ".py",
   "mimetype": "text/x-python",
   "name": "python",
   "nbconvert_exporter": "python",
   "pygments_lexer": "ipython3",
   "version": "3.11.5"
  }
 },
 "nbformat": 4,
 "nbformat_minor": 5
}
